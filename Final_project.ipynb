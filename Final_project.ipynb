{
 "cells": [
  {
   "cell_type": "code",
   "execution_count": 5,
   "id": "66f26c9b",
   "metadata": {},
   "outputs": [],
   "source": [
    "import os\n",
    "import matplotlib.pyplot as plt\n",
    "import tensorflow as tf\n",
    "from tensorflow.keras.applications import MobileNetV2, DenseNet201, ResNet101V2\n",
    "from tensorflow.keras.layers import Input, Dense, Dropout, Flatten, AveragePooling2D\n",
    "from tensorflow.keras.models import Model\n",
    "from tensorflow.keras.optimizers import Adam\n",
    "from tensorflow.keras.utils import to_categorical"
   ]
  },
  {
   "cell_type": "code",
   "execution_count": null,
   "id": "db989d53",
   "metadata": {},
   "outputs": [],
   "source": [
    "data_location = './data'\n",
    "CLASS_NAMES = ['covid-19', 'healthy']\n",
    "IMAGE_SHAPE = (256, 256, 3)\n",
    "BATCH_SIZE = 8\n",
    "EPOCHS = 10\n",
    "DATASET_SIZE = sum([len(files) for r, d, files in os.walk(data_location)])"
   ]
  },
  {
   "cell_type": "markdown",
   "id": "49c8af9d",
   "metadata": {},
   "source": [
    "**BUILD DATASET**"
   ]
  },
  {
   "cell_type": "code",
   "execution_count": null,
   "id": "88941917",
   "metadata": {},
   "outputs": [],
   "source": [
    "class DataProcessor():\n",
    "    def __init__(self, data_location):\n",
    "        self.labeled_dataset = tf.data.Dataset.list_files(f\"{data_location}/*/*\")\n",
    "        \n",
    "    def _get_label(self, file_path):\n",
    "        parts = tf.strings.split(file_path, os.path.sep)\n",
    "        return parts[-2] == CLASS_NAMES\n",
    "    \n",
    "    def _decode_image(self, img):\n",
    "        img = tf.image.decode_jpeg(img, channels=3)\n",
    "        img = tf.image.convert_image_dtype(img, tf.float32)\n",
    "        return tf.image.resize(img, [IMAGE_SHAPE[0], IMAGE_SHAPE[1]])\n",
    "    \n",
    "    def _pre_proces_images(self, file_path):\n",
    "        label = self._get_label(file_path)\n",
    "        img = tf.io.read_file(file_path)\n",
    "        img = self._decode_image(img)\n",
    "        return img, label\n",
    "    \n",
    "    def prepare_dataset(self):\n",
    "        self.labeled_dataset = self.labeled_dataset.map(self._pre_proces_images)\n",
    "        self.labeled_dataset = self.labeled_dataset.cache()\n",
    "        self.labeled_dataset = self.labeled_dataset.shuffle(buffer_size=10)\n",
    "        self.labeled_dataset = self.labeled_dataset.repeat()\n",
    "        self.labeled_dataset = self.labeled_dataset.batch(BATCH_SIZE)\n",
    "        self.labeled_dataset = self.labeled_dataset.prefetch(buffer_size=tf.data.experimental.AUTOTUNE)\n",
    "        \n",
    "        train_size = int(0.7 * DATASET_SIZE)\n",
    "        val_size = int(0.15 * DATASET_SIZE)\n",
    "        test_size = int(0.15 * DATASET_SIZE)\n",
    "        \n",
    "        train_dataset = self.labeled_dataset.take(train_size)\n",
    "        test_dataset = self.labeled_dataset.skip(train_size)\n",
    "        val_dataset = test_dataset.skip(test_size)\n",
    "        test_dataset = test_dataset.take(test_size)\n",
    "        \n",
    "        return train_dataset, test_dataset, val_dataset"
   ]
  },
  {
   "cell_type": "code",
   "execution_count": null,
   "id": "f567d9e9",
   "metadata": {},
   "outputs": [],
   "source": [
    "processor = DataProcessor(data_location)\n",
    "train_dataset, test_dataset, val_dataset = processor.prepare_dataset()"
   ]
  },
  {
   "cell_type": "markdown",
   "id": "fc62e528",
   "metadata": {},
   "source": [
    "**BUILD MODEL**"
   ]
  },
  {
   "cell_type": "code",
   "execution_count": null,
   "id": "fe2f9162",
   "metadata": {},
   "outputs": [],
   "source": [
    "class Wrapper(tf.keras.Model):\n",
    "    def __init__(self, base_model):\n",
    "        super(Wrapper, self).__init__()\n",
    "        \n",
    "        self.base_model = base_model\n",
    "        self.average_pooling_layer = AveragePooling2D(name=\"polling\")\n",
    "        self.flatten = Flatten(name=\"flatten\")\n",
    "        self.dense = Dense(64, activation=\"relu\")\n",
    "        self.dropout = Dropout(0.5)\n",
    "        self.output_layer = Dense(2, activation=\"softmax\")\n",
    "        \n",
    "    def call(self, inputs):\n",
    "        x = self.base_model(inputs)\n",
    "        x = self.average_pooling_layer(x)\n",
    "        x = self.flatten(x)\n",
    "        x = self.dense(x)\n",
    "        x = self.dropout(x)\n",
    "        output = self.output_layer(x)\n",
    "        return output"
   ]
  },
  {
   "cell_type": "code",
   "execution_count": null,
   "id": "06b0deed",
   "metadata": {},
   "outputs": [],
   "source": [
    "base_learning_rate = 0.0001\n",
    "steps_per_epoch = DATASET_SIZE//BATCH_SIZE\n",
    "validation_steps = 20\n",
    "\n",
    "mobile_net = MobileNetV2(input_shape=IMAGE_SHAPE, include_top=False, weights='imagenet')\n",
    "mobile_net.trainable = False\n",
    "mobile = Wrapper(mobile_net)\n",
    "mobile.compile(Adam(lr=base_learning_rate),\n",
    "              loss='binary_crossentropy',\n",
    "              metrics=['accuracy'])\n",
    "\n",
    "res_net = ResNet101V2(input_shape=IMAGE_SHAPE, include_top=False, weights='imagenet')\n",
    "res_net.trainable = False\n",
    "res = Wrapper(res_net)\n",
    "res.compile(optimizer=Adam(lr=base_learning_rate),\n",
    "              loss='binary_crossentropy',\n",
    "              metrics=['accuracy'])\n",
    "\n",
    "dense_net = DenseNet201(input_shape=IMAGE_SHAPE, include_top=False, weights='imagenet')\n",
    "dense_net.trainable = False\n",
    "dense = Wrapper(dense_net)\n",
    "dense.compile(optimizer=Adam(lr=base_learning_rate),\n",
    "              loss='binary_crossentropy',\n",
    "              metrics=['accuracy'])"
   ]
  },
  {
   "cell_type": "markdown",
   "id": "b9ebccf0",
   "metadata": {},
   "source": [
    "**TRAINING**"
   ]
  },
  {
   "cell_type": "code",
   "execution_count": null,
   "id": "77824512",
   "metadata": {},
   "outputs": [],
   "source": [
    "history_mobile = mobile.fit(train_dataset,\n",
    "                    epochs=EPOCHS,\n",
    "                    validation_data=val_dataset,\n",
    "                    validation_steps=validation_steps)\n"
   ]
  },
  {
   "cell_type": "code",
   "execution_count": null,
   "id": "27c74390",
   "metadata": {},
   "outputs": [],
   "source": [
    "history_resnet = res.fit(train_dataset,\n",
    "                    epochs=EPOCHS,\n",
    "                    validation_data=val_dataset,\n",
    "                    validation_steps=validation_steps)"
   ]
  },
  {
   "cell_type": "code",
   "execution_count": null,
   "id": "77ad699b",
   "metadata": {},
   "outputs": [],
   "source": [
    "history_densenet = dense.fit(train_dataset,\n",
    "                    epochs=EPOCHS,\n",
    "                    validation_data=val_dataset,\n",
    "                    validation_steps=validation_steps)"
   ]
  },
  {
   "cell_type": "markdown",
   "id": "a115c8e8",
   "metadata": {},
   "source": [
    "**PLOTTING HISTORY**"
   ]
  },
  {
   "cell_type": "code",
   "execution_count": null,
   "id": "c2548346",
   "metadata": {},
   "outputs": [],
   "source": [
    "plt.plot(history_mobile.history['accuracy'])\n",
    "plt.plot(history_mobile.history['val_accuracy'])\n",
    "plt.title('Model accuracy - Mobile Net')\n",
    "plt.ylabel('Accuracy')\n",
    "plt.xlabel('Epoch')\n",
    "plt.legend(['Train', 'Validation'], loc='upper left')\n",
    "plt.show()\n",
    "\n",
    "plt.plot(history_mobile.history['loss'])\n",
    "plt.plot(history_mobile.history['val_loss'])\n",
    "plt.title('Model loss - Mobile Net')\n",
    "plt.ylabel('loss')\n",
    "plt.xlabel('Epoch')\n",
    "plt.legend(['Train', 'Validation'], loc='upper left')\n",
    "plt.show()"
   ]
  },
  {
   "cell_type": "code",
   "execution_count": null,
   "id": "ce5407a6",
   "metadata": {},
   "outputs": [],
   "source": [
    "plt.plot(history_resnet.history['accuracy'])\n",
    "plt.plot(history_resnet.history['val_accuracy'])\n",
    "plt.title('Model accuracy - ResNet')\n",
    "plt.ylabel('Accuracy')\n",
    "plt.xlabel('Epoch')\n",
    "plt.legend(['Train', 'Validation'], loc='upper left')\n",
    "plt.show()\n",
    "\n",
    "plt.plot(history_resnet.history['loss'])\n",
    "plt.plot(history_resnet.history['val_loss'])\n",
    "plt.title('Model loss - ResNet')\n",
    "plt.ylabel('loss')\n",
    "plt.xlabel('Epoch')\n",
    "plt.legend(['Train', 'Validation'], loc='upper left')\n",
    "plt.show()\n"
   ]
  },
  {
   "cell_type": "code",
   "execution_count": null,
   "id": "5f3ea4bc",
   "metadata": {},
   "outputs": [],
   "source": [
    "plt.plot(history_densenet.history['accuracy'])\n",
    "plt.plot(history_densenet.history['val_accuracy'])\n",
    "plt.title('Model accuracy - Dense Net')\n",
    "plt.ylabel('Accuracy')\n",
    "plt.xlabel('Epoch')\n",
    "plt.legend(['Train', 'Validation'], loc='upper left')\n",
    "plt.show()\n",
    "\n",
    "plt.plot(history_densenet.history['loss'])\n",
    "plt.plot(history_densenet.history['val_loss'])\n",
    "plt.title('Model loss - DenseNet')\n",
    "plt.ylabel('loss')\n",
    "plt.xlabel('Epoch')\n",
    "plt.legend(['Train', 'Validation'], loc='upper left')\n",
    "plt.show()"
   ]
  },
  {
   "cell_type": "markdown",
   "id": "67679373",
   "metadata": {},
   "source": [
    "**EVALUATION**"
   ]
  },
  {
   "cell_type": "code",
   "execution_count": null,
   "id": "a8203bc2",
   "metadata": {},
   "outputs": [],
   "source": [
    "loss, accuracy = mobile.evaluate(test_dataset, steps = validation_steps)\n",
    "\n",
    "print(\"--------MobileNet---------\")\n",
    "print(\"Loss: {:.2f}\".format(loss))\n",
    "print(\"Accuracy: {:.2f}\".format(accuracy))\n",
    "print(\"---------------------------\")"
   ]
  },
  {
   "cell_type": "code",
   "execution_count": null,
   "id": "ef5a3e60",
   "metadata": {},
   "outputs": [],
   "source": [
    "loss, accuracy = res.evaluate(test_dataset, steps = validation_steps)\n",
    "\n",
    "print(\"--------ResNet---------\")\n",
    "print(\"Loss: {:.2f}\".format(loss))\n",
    "print(\"Accuracy: {:.2f}\".format(accuracy))\n",
    "print(\"---------------------------\")"
   ]
  },
  {
   "cell_type": "code",
   "execution_count": null,
   "id": "fd84835a",
   "metadata": {},
   "outputs": [],
   "source": [
    "loss, accuracy = dense.evaluate(test_dataset, steps = validation_steps)\n",
    "\n",
    "print(\"--------DenseNet---------\")\n",
    "print(\"Loss: {:.2f}\".format(loss))\n",
    "print(\"Accuracy: {:.2f}\".format(accuracy))\n",
    "print(\"---------------------------\")"
   ]
  },
  {
   "cell_type": "markdown",
   "id": "fb1989db",
   "metadata": {},
   "source": [
    "**SAVING MODELS**"
   ]
  },
  {
   "cell_type": "code",
   "execution_count": null,
   "id": "e0b816d5",
   "metadata": {},
   "outputs": [],
   "source": [
    "tf.saved_model.save(mobile, './models/mobilenet/1')\n",
    "tf.saved_model.save(res, './models/resnet/1')\n",
    "tf.saved_model.save(dense, './models/densenet/1')"
   ]
  },
  {
   "cell_type": "code",
   "execution_count": null,
   "id": "e026045e",
   "metadata": {},
   "outputs": [],
   "source": []
  }
 ],
 "metadata": {
  "kernelspec": {
   "display_name": "Python 3 (ipykernel)",
   "language": "python",
   "name": "python3"
  },
  "language_info": {
   "codemirror_mode": {
    "name": "ipython",
    "version": 3
   },
   "file_extension": ".py",
   "mimetype": "text/x-python",
   "name": "python",
   "nbconvert_exporter": "python",
   "pygments_lexer": "ipython3",
   "version": "3.10.9"
  }
 },
 "nbformat": 4,
 "nbformat_minor": 5
}
